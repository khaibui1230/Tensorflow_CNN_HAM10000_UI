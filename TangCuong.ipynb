import tensorflow as tf
from tensorflow.keras.preprocessing.image import ImageDataGenerator

# Định nghĩa số lượng lớp
num_classes = 7

# Tạo ImageDataGenerator cho Data Augmentation
train_datagen = ImageDataGenerator(
    rotation_range=20,
    width_shift_range=0.2,
    height_shift_range=0.2,
    shear_range=0.2,
    zoom_range=0.2,
    horizontal_flip=True,
    fill_mode='nearest'
)

# ImageDataGenerator cho tập kiểm tra
val_datagen = ImageDataGenerator()

# Đường dẫn tới thư mục chứa dữ liệu huấn luyện và kiểm tra
train_dir = "/SkinClassii/train_folder/train/"
val_dir = "/SkinClassii/train_folder/val/"

# Tạo các generator cho tập huấn luyện và tập kiểm tra
train_generator = train_datagen.flow_from_directory(
    train_dir,
    target_size=(224, 224),
    batch_size=32,
    class_mode='sparse'
)

val_generator = val_datagen.flow_from_directory(
    val_dir,
    target_size=(224, 224),
    batch_size=32,
    class_mode='sparse'
)

# Xây dựng mô hình CNN
model_cust = tf.keras.Sequential([
    tf.keras.layers.Conv2D(224, 3, activation='relu'),
    tf.keras.layers.MaxPooling2D(),
    tf.keras.layers.Conv2D(224, 3, activation='relu'),
    tf.keras.layers.MaxPooling2D(),
    tf.keras.layers.Conv2D(224, 3, activation='relu'),
    tf.keras.layers.MaxPooling2D(),
    tf.keras.layers.Flatten(),
    tf.keras.layers.Dense(128, activation='relu'),
    tf.keras.layers.Dense(num_classes, activation='softmax')  # Chỉnh sửa activation thành 'softmax'
])

# Biên dịch mô hình
model_cust.compile(optimizer='adam',
                   loss=tf.keras.losses.SparseCategoricalCrossentropy(from_logits=False),  # Chỉnh sửa from_logits thành False
                   metrics=['accuracy'])

# Huấn luyện mô hình với Data Augmentation
history_cust = model_cust.fit(
    train_generator,
    epochs=20,
    validation_data=val_generator
)
